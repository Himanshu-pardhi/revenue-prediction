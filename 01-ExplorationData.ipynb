{
 "cells": [
  {
   "cell_type": "code",
   "execution_count": null,
   "metadata": {},
   "outputs": [],
   "source": [
    "import pandas as pd\n",
    "import numpy as np\n",
    "import json\n",
    "import datetime as dt\n",
    "import seaborn as sns\n",
    "import matplotlib.pyplot as plt"
   ]
  },
  {
   "cell_type": "code",
   "execution_count": null,
   "metadata": {},
   "outputs": [],
   "source": [
    "with open('   ', 'r') as file:\n",
    "    data = json.load(file)\n",
    "    \n",
    "df = pd.json_normalize(data)\n",
    "df.head(1)\n"
   ]
  },
  {
   "cell_type": "code",
   "execution_count": null,
   "metadata": {},
   "outputs": [],
   "source": [
    "# Variables\n",
    "df.columns"
   ]
  },
  {
   "cell_type": "code",
   "execution_count": null,
   "metadata": {},
   "outputs": [],
   "source": [
    "# Checking missing values\n",
    "df.isnull().sum()"
   ]
  },
  {
   "cell_type": "code",
   "execution_count": null,
   "metadata": {},
   "outputs": [],
   "source": [
    "# Checking missing values in the Revenue variable:\n",
    "df[['revenue.2020','revenue.2019','revenue.2018','revenue.2017','revenue.2016','revenue.2015']].isnull().sum()\n",
    "# Dropping missing values Revenue variable\n",
    "df= df.dropna(subset=['revenue.2020','revenue.2019','revenue.2018','revenue.2017','revenue.2016', 'revenue.2015'], how='all')\n"
   ]
  },
  {
   "cell_type": "markdown",
   "metadata": {},
   "source": [
    "### Checking variables"
   ]
  },
  {
   "cell_type": "code",
   "execution_count": null,
   "metadata": {},
   "outputs": [],
   "source": [
    "nulls = df[['province','company_category']].isnull().sum()\n",
    "nulls"
   ]
  },
  {
   "cell_type": "code",
   "execution_count": null,
   "metadata": {},
   "outputs": [],
   "source": [
    "df.province.value_counts()"
   ]
  },
  {
   "cell_type": "code",
   "execution_count": null,
   "metadata": {},
   "outputs": [],
   "source": [
    "# Recoding 'province' variable \n",
    "def code_province(x):\n",
    "    if x =='Antwerp':\n",
    "        return 1\n",
    "    if x =='Vlaams Brabant':\n",
    "        return 2\n",
    "    if x =='East-Flanders':\n",
    "        return 3\n",
    "    if x =='West-Flanders':\n",
    "        return 4\n",
    "    if x =='Limburg':\n",
    "        return 5\n",
    "\n",
    "df['province_code'] = df['province'].apply(code_province)\n"
   ]
  },
  {
   "cell_type": "code",
   "execution_count": null,
   "metadata": {},
   "outputs": [],
   "source": [
    "df.company_category.value_counts()"
   ]
  },
  {
   "cell_type": "code",
   "execution_count": null,
   "metadata": {},
   "outputs": [],
   "source": [
    "# Recoding 'company size' variable\n",
    "def code_size(x):\n",
    "    if x =='Small':\n",
    "        return 1\n",
    "    if x =='Medium sized':\n",
    "        return 2\n",
    "    if x =='Large':\n",
    "        return 3\n",
    "    if x =='Very large':\n",
    "        return 4\n",
    "\n",
    "df['size_code'] = df['company_category'].apply(code_size)\n"
   ]
  },
  {
   "cell_type": "code",
   "execution_count": null,
   "metadata": {},
   "outputs": [],
   "source": [
    "#Transform string to date\n",
    "df['DateFormat'] = pd.to_datetime(df.creation_date, format=\"%Y/%m/%d\")\n",
    "#Extracting Year\n",
    "df['creation_year'] = df['DateFormat'].dt.year"
   ]
  },
  {
   "cell_type": "code",
   "execution_count": null,
   "metadata": {},
   "outputs": [],
   "source": [
    "df.legal_form.value_counts()"
   ]
  },
  {
   "cell_type": "code",
   "execution_count": null,
   "metadata": {},
   "outputs": [],
   "source": [
    "# Recoding 'legal_form' variable\n",
    "def code_form(x):\n",
    "    if x =='Private company with limited liability':\n",
    "        return 1\n",
    "    if x =='Private company':\n",
    "        return 2\n",
    "\n",
    "df['legal_form_code'] = df['legal_form'].apply(code_form)"
   ]
  },
  {
   "cell_type": "markdown",
   "metadata": {},
   "source": [
    "### Correlation Matrices"
   ]
  },
  {
   "cell_type": "code",
   "execution_count": null,
   "metadata": {},
   "outputs": [],
   "source": [
    "corrMatrix = df[['revenue.2020','ebit.2019','ebitda.2019','profit_and_loss_after_taxes.2019','total_assets.2019','financial_profit_and_loss.2019','staff_count.2019','net_added_value.2019','staff_costs.2019']].corr()\n",
    "sns.heatmap(corrMatrix, annot=True)\n",
    "plt.show()"
   ]
  },
  {
   "cell_type": "code",
   "execution_count": null,
   "metadata": {},
   "outputs": [],
   "source": [
    "# Plot, we can see outliers:\n",
    "fig = plt.figure(figsize=(9,5))\n",
    "sns.scatterplot(x='province', y='revenue.2020', data=df)\n",
    "#plt.title('Quality vs fixed acidity', fontsize = 15, fontweight = 'bold')\n",
    "#plt.xlabel('Quality', fontsize=10)\n",
    "#plt.ylabel('Fixed acidity', fontsize=10)"
   ]
  },
  {
   "cell_type": "code",
   "execution_count": null,
   "metadata": {},
   "outputs": [],
   "source": [
    "# Plot revenue 2020\n",
    "fig = plt.figure(figsize=(9,5))\n",
    "sns.barplot(x='province', y='revenue.2020', data=df)\n",
    "plt.title('revenue.2020', fontsize = 15, fontweight = 'bold')\n",
    "plt.xlabel('province', fontsize=10)\n",
    "plt.ylabel('revenue.2020', fontsize=10)"
   ]
  },
  {
   "cell_type": "code",
   "execution_count": null,
   "metadata": {},
   "outputs": [],
   "source": [
    "#Plot revenue 2019 vs province\n",
    "fig = plt.figure(figsize=(9,5))\n",
    "sns.barplot(x='province', y='revenue.2019', data=df)\n",
    "plt.title('revenue 2019', fontsize = 12, fontweight = 'bold')\n",
    "plt.xlabel('province', fontsize=10)\n",
    "plt.ylabel('revenue 2019', fontsize=10)"
   ]
  },
  {
   "cell_type": "code",
   "execution_count": null,
   "metadata": {},
   "outputs": [],
   "source": [
    "# Correlations\n",
    "corrMatrix = df[['size_code','revenue.2020','revenue.2019']].corr()\n",
    "sns.heatmap(corrMatrix, annot=True)\n",
    "plt.show()"
   ]
  },
  {
   "cell_type": "code",
   "execution_count": null,
   "metadata": {},
   "outputs": [],
   "source": [
    "# Correlations\n",
    "corrMatrix = df[['staff_costs.2019','staff_count.2019','revenue.2020']].corr()\n",
    "sns.heatmap(corrMatrix, annot=True)\n",
    "plt.title('Correlation')\n",
    "plt.show()"
   ]
  },
  {
   "cell_type": "code",
   "execution_count": null,
   "metadata": {},
   "outputs": [],
   "source": [
    "# Correlations\n",
    "corrMatrix = df[['revenue.2020','staff_costs.2019','staff_count.2019','revenue.2019']].corr()\n",
    "sns.heatmap(corrMatrix, annot=True)\n",
    "plt.title('Correlation')\n",
    "plt.show()"
   ]
  },
  {
   "cell_type": "code",
   "execution_count": null,
   "metadata": {},
   "outputs": [],
   "source": [
    "# Correlations\n",
    "corrMatrix = df[['revenue.2020', 'size_code', 'ebit.2019', 'ebitda.2019','total_assets.2019','staff_costs.2019','revenue_transf.2019','revenue.2019']].corr()\n",
    "sns.heatmap(corrMatrix, annot=True)\n",
    "plt.title('Correlation')\n",
    "plt.show()"
   ]
  },
  {
   "cell_type": "code",
   "execution_count": null,
   "metadata": {},
   "outputs": [],
   "source": [
    "# Correlations\n",
    "corrMatrix = df[['revenue.2020', 'size_code', 'ebit.2019', 'ebitda.2019','total_assets.2019','staff_costs.2019','revenue_transf.2019','revenue.2019', 'profit_and_loss_after_taxes.2020']].corr()\n",
    "sns.heatmap(corrMatrix, annot=True)\n",
    "plt.title('Correlation')\n",
    "plt.show()"
   ]
  },
  {
   "cell_type": "code",
   "execution_count": null,
   "metadata": {},
   "outputs": [],
   "source": [
    "# Correlations\n",
    "corrMatrix = df[['revenue.2020', 'size_code', 'ebitda.2019','total_assets.2019', 'financial_profit_and_loss.2019','staff_costs.2019','revenue_transf.2019','revenue.2019']].corr()\n",
    "sns.heatmap(corrMatrix, annot=True)\n",
    "plt.title('Correlation')\n",
    "plt.show()"
   ]
  }
 ],
 "metadata": {
  "kernelspec": {
   "display_name": "Python 3.9.7 ('base')",
   "language": "python",
   "name": "python3"
  },
  "language_info": {
   "codemirror_mode": {
    "name": "ipython",
    "version": 3
   },
   "file_extension": ".py",
   "mimetype": "text/x-python",
   "name": "python",
   "nbconvert_exporter": "python",
   "pygments_lexer": "ipython3",
   "version": "3.9.7"
  },
  "orig_nbformat": 4,
  "vscode": {
   "interpreter": {
    "hash": "8d21f3b75a0e2120eb0e66e21d4adea905fc160c040159242535b1a26e9f956d"
   }
  }
 },
 "nbformat": 4,
 "nbformat_minor": 2
}
