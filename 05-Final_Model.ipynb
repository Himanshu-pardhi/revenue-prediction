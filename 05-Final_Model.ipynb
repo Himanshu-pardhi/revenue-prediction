{
 "cells": [
  {
   "cell_type": "markdown",
   "metadata": {},
   "source": [
    "# Importing the necessary Library and Model"
   ]
  },
  {
   "cell_type": "code",
   "execution_count": 2,
   "metadata": {},
   "outputs": [],
   "source": [
    "# import libraries\n",
    "import pandas as pd\n",
    "import numpy as np\n",
    "import matplotlib.pyplot as plt\n",
    "\n",
    "# Sklearn processing\n",
    "from sklearn.model_selection import train_test_split\n",
    "from sklearn.preprocessing import StandardScaler\n",
    "\n",
    "# Sklearn regression algorithms\n",
    "from sklearn.ensemble import RandomForestRegressor\n",
    "\n",
    "# Sklearn regression model evaluation function\n",
    "from sklearn.metrics import mean_absolute_error\n",
    "from sklearn.metrics import mean_squared_error\n",
    "from sklearn.metrics import r2_score"
   ]
  },
  {
   "cell_type": "markdown",
   "metadata": {},
   "source": [
    "# Loading and Final Tuning of Data"
   ]
  },
  {
   "cell_type": "code",
   "execution_count": 20,
   "metadata": {},
   "outputs": [],
   "source": [
    "# Load the dataset\n",
    "df = pd.read_csv(' ')"
   ]
  },
  {
   "cell_type": "code",
   "execution_count": 19,
   "metadata": {},
   "outputs": [],
   "source": [
    "# drop the unwanted columns\n",
    "df.drop(['Unnamed: 0','vat_number','nace_code','highLevel_NaceCode','province',\n",
    "        'year'], axis='columns', inplace=True)"
   ]
  },
  {
   "cell_type": "code",
   "execution_count": 8,
   "metadata": {},
   "outputs": [],
   "source": [
    "# Select Features and Target\n",
    "X = df.iloc[:, :-1].values\n",
    "y = df.iloc[:, -1].values"
   ]
  },
  {
   "cell_type": "code",
   "execution_count": 9,
   "metadata": {},
   "outputs": [],
   "source": [
    "# Split the data into training and testing sets\n",
    "X_train, X_test, y_train, y_test = train_test_split(X, y, test_size=0.2, random_state=0)"
   ]
  },
  {
   "cell_type": "markdown",
   "metadata": {},
   "source": [
    "# Normalize data"
   ]
  },
  {
   "cell_type": "code",
   "execution_count": 10,
   "metadata": {},
   "outputs": [],
   "source": [
    "from sklearn.preprocessing import StandardScaler\n",
    "\n",
    "# Perform scaler transform of the dataset\n",
    "scal_transform = StandardScaler() \n",
    "X_train = scal_transform.fit_transform(X_train)\n",
    "X_test = scal_transform.transform(X_test)"
   ]
  },
  {
   "cell_type": "markdown",
   "metadata": {},
   "source": [
    "# Running the model with the best parameters"
   ]
  },
  {
   "cell_type": "code",
   "execution_count": 18,
   "metadata": {},
   "outputs": [],
   "source": [
    "# Create the model with best parameters\n",
    "rf = RandomForestRegressor(n_estimators=800, min_samples_split=2, min_samples_leaf=1, max_depth=100, max_features=1, bootstrap=True)\n",
    "# Fit the model\n",
    "rf.fit(X_train, y_train)\n",
    "\n",
    "x_rf_train_predict = rf.predict(X_train) # Predict on training set\n",
    "x_rf_test_predict = rf.predict(X_test) # Predict on test set"
   ]
  },
  {
   "cell_type": "code",
   "execution_count": 13,
   "metadata": {},
   "outputs": [],
   "source": [
    "rf_train_mse = mean_squared_error(y_train, x_rf_train_predict) # Calculate training set MSE\n",
    "rf_test_mse = mean_squared_error(y_test, x_rf_test_predict) # Calculate test set MSE\n",
    "\n",
    "rf_train_r2 = r2_score(y_train, x_rf_train_predict) # Calculate training set R2\n",
    "rf_test_r2 = r2_score(y_test, x_rf_test_predict) # Calculate test set R2\n",
    "\n",
    "rf_train_rmse = np.sqrt(rf_train_mse) # Calculate training set RMSE\n",
    "rf_test_rmse = np.sqrt(rf_test_mse) # Calculate test set RMSE\n",
    "\n",
    "# Create a dataframe to store results\n",
    "rf_result = pd.DataFrame({'Train_mse': [rf_train_mse], 'Test_mse': [rf_test_mse], 'Train_r2': [rf_train_r2], 'Test_r2': [rf_test_r2], 'Train_rmse': [rf_train_rmse], 'Test_rmse': [rf_test_rmse]}) "
   ]
  }
 ],
 "metadata": {
  "kernelspec": {
   "display_name": "Python 3.10.2 64-bit",
   "language": "python",
   "name": "python3"
  },
  "language_info": {
   "codemirror_mode": {
    "name": "ipython",
    "version": 3
   },
   "file_extension": ".py",
   "mimetype": "text/x-python",
   "name": "python",
   "nbconvert_exporter": "python",
   "pygments_lexer": "ipython3",
   "version": "3.10.2"
  },
  "orig_nbformat": 4,
  "vscode": {
   "interpreter": {
    "hash": "26de051ba29f2982a8de78e945f0abaf191376122a1563185a90213a26c5da77"
   }
  }
 },
 "nbformat": 4,
 "nbformat_minor": 2
}
